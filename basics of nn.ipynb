{
 "cells": [
  {
   "cell_type": "code",
   "execution_count": 14,
   "metadata": {},
   "outputs": [],
   "source": [
    "import numpy as np"
   ]
  },
  {
   "cell_type": "markdown",
   "metadata": {},
   "source": [
    "#### Классы для нейронной сети"
   ]
  },
  {
   "cell_type": "code",
   "execution_count": 15,
   "metadata": {},
   "outputs": [],
   "source": [
    "class Neuron:\n",
    "    def __init__(self, input_size, activation):\n",
    "        self.weights = np.random.randn(input_size) * 0.01\n",
    "        self.bias = 0.0\n",
    "        self.activation = activation\n",
    "    \n",
    "    def activate(self, x):\n",
    "        if self.activation == \"linear\":\n",
    "            return x\n",
    "        elif self.activation == \"sigmoid\":\n",
    "            if x > 500:\n",
    "                return 1 \n",
    "            elif x < -500:\n",
    "                return 0\n",
    "            else:\n",
    "                return 1 / (1 + np.exp(-x))\n",
    "    \n",
    "    def forward(self, x):\n",
    "        z = np.dot(x, self.weights) + self.bias\n",
    "        return self.activate(z)\n",
    "    \n",
    "    def compute_gradient(self, x, grad_output):\n",
    "        grad_w = x * grad_output\n",
    "        grad_b = grad_output\n",
    "        return grad_w, grad_b\n"
   ]
  },
  {
   "cell_type": "code",
   "execution_count": 16,
   "metadata": {},
   "outputs": [],
   "source": [
    "class NeuralNetwork:\n",
    "    def __init__(self):\n",
    "        self.neuron1 = Neuron(2, \"linear\")\n",
    "        self.neuron2 = Neuron(2, \"linear\")\n",
    "        \n",
    "        self.output_neuron = Neuron(2, \"sigmoid\")\n",
    "    \n",
    "    def forward(self, x):\n",
    "        out1 = self.neuron1.forward(x)\n",
    "        out2 = self.neuron2.forward(x)\n",
    "        output = self.output_neuron.forward(np.array([out1, out2]))\n",
    "        return output\n",
    "    \n",
    "    def compute_loss(self, prediction, target):\n",
    "        # Логлос\n",
    "        epsilon = 1e-15\n",
    "        prediction = np.clip(prediction, epsilon, 1 - epsilon)\n",
    "        return - (target * np.log(prediction) + (1 - target) * np.log(1 - prediction))\n",
    "    \n",
    "    def train(self, X, y, learning_rate, epochs):\n",
    "        for epoch in range(epochs):\n",
    "            total_loss = 0\n",
    "            for i in range(len(X)):\n",
    "                prediction = self.forward(X[i])\n",
    "                # нейронка провела pаботу от входа к выходу\n",
    "                \n",
    "                loss = self.compute_loss(prediction, y[i])\n",
    "                total_loss += loss\n",
    "                \n",
    "                # Вычисление градиентов \n",
    "                grad_output = prediction - y[i]\n",
    "                \n",
    "                out1 = self.neuron1.forward(X[i])\n",
    "                out2 = self.neuron2.forward(X[i])\n",
    "                grad_out_w, grad_out_b = self.output_neuron.compute_gradient(np.array([out1, out2]), grad_output)\n",
    "                \n",
    "                # Градиенты для первого слоя\n",
    "                grad1 = self.neuron1.weights * grad_output\n",
    "                grad2 = self.neuron2.weights * grad_output\n",
    "                grad1_w, grad1_b = self.neuron1.compute_gradient(X[i], grad1[0])\n",
    "                grad2_w, grad2_b = self.neuron2.compute_gradient(X[i], grad2[1])\n",
    "                \n",
    "                # Обновление весов и смещений\n",
    "                self.output_neuron.weights -= learning_rate * grad_out_w\n",
    "                self.output_neuron.bias -= learning_rate * grad_out_b\n",
    "\n",
    "                self.neuron1.weights -= learning_rate * grad1_w\n",
    "                self.neuron1.bias -= learning_rate * grad1_b\n",
    "\n",
    "                self.neuron2.weights -= learning_rate * grad2_w\n",
    "                self.neuron2.bias -= learning_rate * grad2_b\n",
    "            \n",
    "            # Печать среднего значения потерь\n",
    "            avg_loss = total_loss / len(X)\n",
    "            if epoch % 100 == 0:\n",
    "                print(f\"Epoch {epoch}, Loss: {avg_loss}\")\n",
    "    \n",
    "    def predict(self, X):\n",
    "        return [1 if self.forward(x) >= 0.5 else 0 for x in X]\n",
    "    \n",
    "    def accuracy(self, X, y):\n",
    "        predictions = self.predict(X)\n",
    "        return np.mean(predictions == y)\n"
   ]
  },
  {
   "cell_type": "markdown",
   "metadata": {},
   "source": [
    "#### Генерация обучающей и валидационной выборок"
   ]
  },
  {
   "cell_type": "code",
   "execution_count": 17,
   "metadata": {},
   "outputs": [],
   "source": [
    "def generate_data(N, num_points):\n",
    "    X = np.random.uniform(-N, N, (num_points, 2)) #координаты х,у\n",
    "    y = (X[:, 1] > -X[:, 0]).astype(int) #если выше прямой, то 1, иначе 0\n",
    "    return X, y\n",
    "\n",
    "train_X, train_y = generate_data(10, 10000)\n",
    "val_X, val_y = generate_data(20, 100)"
   ]
  },
  {
   "cell_type": "markdown",
   "metadata": {},
   "source": [
    "#### Обучение и оценка"
   ]
  },
  {
   "cell_type": "code",
   "execution_count": 18,
   "metadata": {},
   "outputs": [
    {
     "name": "stdout",
     "output_type": "stream",
     "text": [
      "Epoch 0, Loss: 3.1628213352202392\n",
      "Validation accuracy: 0.88\n"
     ]
    }
   ],
   "source": [
    "network = NeuralNetwork()\n",
    "network.train(train_X, train_y, learning_rate=0.1, epochs=5)\n",
    "\n",
    "accuracy = network.accuracy(val_X, val_y)\n",
    "print(f\"Validation accuracy: {accuracy}\")"
   ]
  },
  {
   "cell_type": "code",
   "execution_count": 19,
   "metadata": {},
   "outputs": [
    {
     "data": {
      "text/plain": [
       "array([[ 8.04467679e+00, -1.62392346e+01],\n",
       "       [ 5.31984103e+00,  3.40776399e+00],\n",
       "       [-1.51707934e+01, -1.30418354e+01],\n",
       "       [ 1.46579803e+01,  1.53909119e+01],\n",
       "       [ 1.54251895e+01, -1.48785465e+01],\n",
       "       [-1.97355386e+01, -1.08712823e+01],\n",
       "       [ 1.43775137e+01,  5.62265873e+00],\n",
       "       [-1.47870099e+00, -1.33339333e+01],\n",
       "       [ 4.75281152e+00,  8.35750045e+00],\n",
       "       [-4.82702093e+00, -3.39040353e+00],\n",
       "       [ 5.34143588e+00,  4.55991308e+00],\n",
       "       [-1.46913900e+01, -1.93596992e+01],\n",
       "       [-1.73792879e+01,  1.57685895e+01],\n",
       "       [-9.25843103e+00, -5.24944164e+00],\n",
       "       [-1.77336503e+00,  1.55108190e+01],\n",
       "       [-1.95236748e+01,  1.06115029e+00],\n",
       "       [ 3.12013012e+00,  1.66679911e+01],\n",
       "       [-1.51704478e+01, -1.35457898e+01],\n",
       "       [ 1.52697502e+01, -1.89671033e+01],\n",
       "       [ 1.78753471e+01, -7.54135781e+00],\n",
       "       [ 3.82374575e+00, -6.76931735e+00],\n",
       "       [-8.83198973e+00,  6.84268409e+00],\n",
       "       [-1.32946602e+01, -4.05205938e+00],\n",
       "       [-3.38209071e+00, -1.47376684e+01],\n",
       "       [ 7.01611375e+00, -6.05449324e+00],\n",
       "       [-1.77205878e+00, -7.00063276e+00],\n",
       "       [-6.44693805e+00,  5.19158388e+00],\n",
       "       [-1.57269656e+01,  3.48512062e+00],\n",
       "       [-1.13308220e+01,  1.10160686e+01],\n",
       "       [-1.40580783e+01,  4.42222860e+00],\n",
       "       [ 1.33724368e+01, -1.70672103e+01],\n",
       "       [-1.12448244e+01, -3.81774525e+00],\n",
       "       [-1.05017402e+01, -5.84950064e+00],\n",
       "       [ 1.39744259e+01,  1.31083372e+00],\n",
       "       [-1.41643895e+01,  4.12124831e-03],\n",
       "       [ 1.57873519e+01,  1.79511330e+01],\n",
       "       [ 1.78881958e+01, -7.36040470e+00],\n",
       "       [-5.66544906e+00,  5.54004900e+00],\n",
       "       [ 3.87038864e-02, -1.14436075e+01],\n",
       "       [-1.35963623e+00,  7.08578615e-01],\n",
       "       [ 1.96326052e+01, -4.14062948e+00],\n",
       "       [ 1.66133739e+01, -1.47913326e+01],\n",
       "       [ 1.05659623e+01,  6.29469269e+00],\n",
       "       [-1.30828302e+01, -7.63188873e+00],\n",
       "       [ 1.20900242e+01,  1.34226754e+01],\n",
       "       [ 7.07904042e+00,  1.73752835e+01],\n",
       "       [ 1.33274150e+01, -1.74791602e+01],\n",
       "       [-9.46802650e+00,  2.41217202e-01],\n",
       "       [ 5.76026781e+00,  8.21169858e+00],\n",
       "       [-2.63062310e+00, -5.73268016e+00],\n",
       "       [-1.89892965e+00,  5.29566985e+00],\n",
       "       [ 4.79191342e+00,  2.06565223e-01],\n",
       "       [ 9.62912751e+00, -1.32532740e+01],\n",
       "       [ 4.27107369e+00,  8.83955823e+00],\n",
       "       [ 1.55898402e+01, -5.15753780e+00],\n",
       "       [-9.83823084e+00,  1.43542101e+01],\n",
       "       [ 1.87062728e+01,  7.73328873e+00],\n",
       "       [-1.66443215e+00,  8.79081091e+00],\n",
       "       [ 1.33776464e+01, -7.70389975e-01],\n",
       "       [ 1.51203115e+01, -1.88411758e+01],\n",
       "       [ 1.40957779e+01, -1.36288046e+01],\n",
       "       [ 7.21030137e+00,  1.93368188e+01],\n",
       "       [ 1.62755086e+01,  1.53268631e+01],\n",
       "       [-1.17912358e+01, -1.51927163e+01],\n",
       "       [ 1.37172025e+01, -8.99385945e+00],\n",
       "       [ 6.05320422e+00,  5.23732281e+00],\n",
       "       [-1.51390565e+01,  1.98832489e+01],\n",
       "       [ 1.79262207e+01,  1.81537104e+01],\n",
       "       [-7.37628272e+00,  6.50769112e+00],\n",
       "       [ 1.66888104e+01, -1.89997886e+01],\n",
       "       [-1.78436415e+01,  1.56253177e+01],\n",
       "       [-5.97636862e+00,  1.21440218e+00],\n",
       "       [ 1.71732621e+01, -2.40913823e-01],\n",
       "       [ 8.55564671e+00, -1.36447867e+01],\n",
       "       [-1.63662696e+01,  2.47979495e+00],\n",
       "       [-6.11366919e+00, -1.68461085e+01],\n",
       "       [ 9.87268195e+00,  2.08433893e-01],\n",
       "       [-1.65021035e+01, -1.88132108e+01],\n",
       "       [ 1.08721595e+01,  1.42999520e+01],\n",
       "       [-2.43909064e+00,  6.18073420e-01],\n",
       "       [-3.68198060e+00,  1.33136399e+01],\n",
       "       [-9.20528142e+00, -5.19964361e+00],\n",
       "       [ 8.99599011e+00,  1.76745329e+01],\n",
       "       [ 1.70346806e+01,  4.80044368e+00],\n",
       "       [ 1.02078152e+01,  5.83763323e+00],\n",
       "       [ 2.17500460e+00, -1.92623529e+01],\n",
       "       [-6.25695805e+00, -1.91030313e+01],\n",
       "       [ 1.72732604e+01, -3.17833414e+00],\n",
       "       [-1.91115240e+01, -1.33898848e+01],\n",
       "       [ 1.77088827e+01, -1.72531699e+01],\n",
       "       [-8.66280953e+00, -1.79969391e+01],\n",
       "       [ 9.29097965e+00, -9.02778691e+00],\n",
       "       [ 8.57982421e+00,  7.96638385e+00],\n",
       "       [ 3.91376535e+00, -2.50897958e+00],\n",
       "       [ 1.47149131e+00,  1.69223126e+01],\n",
       "       [-1.93190260e+01, -3.30134750e+00],\n",
       "       [ 1.17085185e+01, -1.68246730e+01],\n",
       "       [-1.75670520e+01, -6.60843296e+00],\n",
       "       [ 1.92429335e+01, -6.46853530e+00],\n",
       "       [-1.28188995e+01, -1.40436692e+01]])"
      ]
     },
     "execution_count": 19,
     "metadata": {},
     "output_type": "execute_result"
    }
   ],
   "source": [
    "val_X"
   ]
  },
  {
   "cell_type": "code",
   "execution_count": 20,
   "metadata": {},
   "outputs": [],
   "source": [
    "res_val_y = (val_X[:, 1] > -val_X[:, 0]).astype(int)"
   ]
  },
  {
   "cell_type": "code",
   "execution_count": 21,
   "metadata": {},
   "outputs": [
    {
     "data": {
      "text/plain": [
       "array([0, 1, 0, 1, 1, 0, 1, 0, 1, 0, 1, 0, 0, 0, 1, 0, 1, 0, 0, 1, 0, 0,\n",
       "       0, 0, 1, 0, 0, 0, 0, 0, 0, 0, 0, 1, 0, 1, 1, 0, 0, 0, 1, 1, 1, 0,\n",
       "       1, 1, 0, 0, 1, 0, 1, 1, 0, 1, 1, 1, 1, 1, 1, 0, 1, 1, 1, 0, 1, 1,\n",
       "       1, 1, 0, 0, 0, 0, 1, 0, 0, 0, 1, 0, 1, 0, 1, 0, 1, 1, 1, 0, 0, 1,\n",
       "       0, 1, 0, 1, 1, 1, 1, 0, 0, 0, 1, 0])"
      ]
     },
     "execution_count": 21,
     "metadata": {},
     "output_type": "execute_result"
    }
   ],
   "source": [
    "val_y"
   ]
  },
  {
   "cell_type": "code",
   "execution_count": 22,
   "metadata": {},
   "outputs": [
    {
     "data": {
      "text/plain": [
       "array([0, 1, 0, 1, 1, 0, 1, 0, 1, 0, 1, 0, 0, 0, 1, 0, 1, 0, 0, 1, 0, 0,\n",
       "       0, 0, 1, 0, 0, 0, 0, 0, 0, 0, 0, 1, 0, 1, 1, 0, 0, 0, 1, 1, 1, 0,\n",
       "       1, 1, 0, 0, 1, 0, 1, 1, 0, 1, 1, 1, 1, 1, 1, 0, 1, 1, 1, 0, 1, 1,\n",
       "       1, 1, 0, 0, 0, 0, 1, 0, 0, 0, 1, 0, 1, 0, 1, 0, 1, 1, 1, 0, 0, 1,\n",
       "       0, 1, 0, 1, 1, 1, 1, 0, 0, 0, 1, 0])"
      ]
     },
     "execution_count": 22,
     "metadata": {},
     "output_type": "execute_result"
    }
   ],
   "source": [
    "res_val_y"
   ]
  },
  {
   "cell_type": "markdown",
   "metadata": {},
   "source": [
    "#### Визуализация"
   ]
  },
  {
   "cell_type": "code",
   "execution_count": 23,
   "metadata": {},
   "outputs": [],
   "source": [
    "import matplotlib.pyplot as plt"
   ]
  },
  {
   "cell_type": "code",
   "execution_count": 24,
   "metadata": {},
   "outputs": [
    {
     "data": {
      "image/png": "[encoded data removed]",
      "text/plain": [
       "<Figure size 640x480 with 1 Axes>"
      ]
     },
     "metadata": {},
     "output_type": "display_data"
    }
   ],
   "source": [
    "plt.scatter(val_X[:, 0], val_X[:,1], color='purple', label='dots')\n",
    "plt.plot(val_X[:,0], -val_X[:,0], label='y=-x')\n",
    "plt.legend()\n",
    "plt.show()"
   ]
  }
 ],
 "metadata": {
  "kernelspec": {
   "display_name": "base",
   "language": "python",
   "name": "python3"
  },
  "language_info": {
   "codemirror_mode": {
    "name": "ipython",
    "version": 3
   },
   "file_extension": ".py",
   "mimetype": "text/x-python",
   "name": "python",
   "nbconvert_exporter": "python",
   "pygments_lexer": "ipython3",
   "version": "3.11.5"
  }
 },
 "nbformat": 4,
 "nbformat_minor": 2
}
